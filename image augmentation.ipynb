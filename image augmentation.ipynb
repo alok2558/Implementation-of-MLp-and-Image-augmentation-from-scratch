{
  "nbformat": 4,
  "nbformat_minor": 0,
  "metadata": {
    "colab": {
      "name": "aug.ipynb",
      "provenance": [],
      "collapsed_sections": []
    },
    "kernelspec": {
      "name": "python3",
      "display_name": "Python 3"
    },
    "language_info": {
      "name": "python"
    }
  },
  "cells": [
    {
      "cell_type": "code",
      "execution_count": null,
      "metadata": {
        "id": "xy-lk54M29te"
      },
      "outputs": [],
      "source": [
        ""
      ]
    },
    {
      "cell_type": "markdown",
      "source": [
        "Ques - 1\n",
        "Loading the Dataset"
      ],
      "metadata": {
        "id": "oeRdaXWP4cKV"
      }
    },
    {
      "cell_type": "code",
      "execution_count": 1,
      "metadata": {
        "id": "TZeC_q_01a2a"
      },
      "outputs": [],
      "source": [
        "import numpy as np\n",
        "def unpickle(file):\n",
        "    import pickle\n",
        "    with open(file, 'rb') as fo:\n",
        "        dict = pickle.load(fo, encoding='bytes')\n",
        "    return dict\n",
        "file = r\"/content/drive/MyDrive/cifar-10-batches-py/data_batch_1\"\n",
        "x = unpickle(file)\n",
        "xdata = x[b'data']\n",
        "ydata = x[b'labels']\n",
        "\n",
        "file = r\"/content/drive/MyDrive/cifar-10-batches-py/data_batch_2\"\n",
        "x = unpickle(file)\n",
        "t1data = x[b'data']\n",
        "t2data = x[b'labels']\n",
        "xdata = np.concatenate((xdata, t1data), axis=0)\n",
        "ydata = np.concatenate((ydata, t2data), axis=0)\n",
        "\n",
        "file = r\"/content/drive/MyDrive/cifar-10-batches-py/data_batch_3\"\n",
        "x = unpickle(file)\n",
        "t1data = x[b'data']\n",
        "t2data = x[b'labels']\n",
        "xdata = np.concatenate((xdata, t1data), axis=0)\n",
        "ydata = np.concatenate((ydata, t2data), axis=0)\n",
        "\n",
        "file = r\"/content/drive/MyDrive/cifar-10-batches-py/data_batch_4\"\n",
        "x = unpickle(file)\n",
        "t1data = x[b'data']\n",
        "t2data = x[b'labels']\n",
        "xdata = np.concatenate((xdata, t1data), axis=0)\n",
        "ydata = np.concatenate((ydata, t2data), axis=0)\n",
        "\n",
        "file = r\"/content/drive/MyDrive/cifar-10-batches-py/data_batch_5\"\n",
        "x = unpickle(file)\n",
        "t1data = x[b'data']\n",
        "t2data = x[b'labels']\n",
        "xdata = np.concatenate((xdata, t1data), axis=0)\n",
        "ydata = np.concatenate((ydata, t2data), axis=0)\n"
      ]
    },
    {
      "cell_type": "code",
      "source": [
        "import numpy as np\n",
        "def unpickle(file):\n",
        "    import pickle\n",
        "    with open(file, 'rb') as fo:\n",
        "        dict = pickle.load(fo, encoding='bytes')\n",
        "    return dict\n",
        "file = r\"/content/drive/MyDrive/cifar-10-batches-py/test_batch\"\n",
        "x = unpickle(file)\n",
        "x_test = x[b'data']\n",
        "y_test = x[b'labels']"
      ],
      "metadata": {
        "id": "3Rs20bOUQJhb"
      },
      "execution_count": 2,
      "outputs": []
    },
    {
      "cell_type": "code",
      "source": [
        "from google.colab import drive\n",
        "drive.mount('/content/drive')"
      ],
      "metadata": {
        "colab": {
          "base_uri": "https://localhost:8080/"
        },
        "id": "RACG5BngGxbc",
        "outputId": "8dfd6c7d-eab7-4a0a-fdba-6c89614238de"
      },
      "execution_count": null,
      "outputs": [
        {
          "output_type": "stream",
          "name": "stdout",
          "text": [
            "Mounted at /content/drive\n"
          ]
        }
      ]
    },
    {
      "cell_type": "code",
      "source": [
        ""
      ],
      "metadata": {
        "id": "QO7x5dz04jkZ"
      },
      "execution_count": null,
      "outputs": []
    },
    {
      "cell_type": "markdown",
      "source": [
        "Ques 2 \n",
        "Implementing the Image Transformation function"
      ],
      "metadata": {
        "id": "RZKfMbH_4j4T"
      }
    },
    {
      "cell_type": "code",
      "source": [
        "import random\n",
        "from matplotlib import pyplot as plt\n",
        "%matplotlib inline "
      ],
      "metadata": {
        "id": "ZVsE_ecO3D3h"
      },
      "execution_count": 3,
      "outputs": []
    },
    {
      "cell_type": "code",
      "source": [
        "# cutout function\n",
        "def cutout(lis):\n",
        "    lis = np.reshape(lis,(3,32,32))\n",
        "    lis1 = lis.copy()\n",
        "    n=random.randint(0,16)\n",
        "    c = random.randint(0,16)\n",
        "    v = random.randint(0,255)\n",
        "    for i in range(3):\n",
        "        for j in range(n,n+c):\n",
        "            for k in range(n,n+c):\n",
        "                lis1[i,j,k] = v\n",
        "    return lis1\n",
        "        "
      ],
      "metadata": {
        "id": "J-XYPVww3HgV"
      },
      "execution_count": 4,
      "outputs": []
    },
    {
      "cell_type": "code",
      "source": [
        "import random\n",
        "lis = cutout(xdata[7])\n",
        "\n",
        "plt.imshow(lis.transpose(1,2,0), interpolation='nearest')\n",
        "plt.show()"
      ],
      "metadata": {
        "colab": {
          "base_uri": "https://localhost:8080/",
          "height": 266
        },
        "id": "yi61UmE33LLf",
        "outputId": "0cfe9877-237d-4024-87f1-10cdca9b41ba"
      },
      "execution_count": 5,
      "outputs": [
        {
          "output_type": "display_data",
          "data": {
            "image/png": "[encoded data removed]",
            "text/plain": [
              "<Figure size 432x288 with 1 Axes>"
            ]
          },
          "metadata": {
            "needs_background": "light"
          }
        }
      ]
    },
    {
      "cell_type": "code",
      "source": [
        "# image cropping\n",
        "def crop(image):\n",
        "    \n",
        "    image = np.reshape(image,(3,32,32))\n",
        "    a = np.zeros(shape=(3,36,36))\n",
        "    for i in range(3):\n",
        "        lis =  []\n",
        "        lis.append([0 for i in range(36)])\n",
        "        lis.append([0 for i in range(36)])\n",
        "        for j in range(32):\n",
        "            lis1 = []\n",
        "            lis1.append(0)\n",
        "            lis1.append(0)\n",
        "            for k in range(32):\n",
        "                lis1.append(image[i,j,k])\n",
        "            lis1.append(0)\n",
        "            lis1.append(0)\n",
        "            lis.append(lis1)\n",
        "        lis.append([0 for i in range(36)])\n",
        "        lis.append([0 for i in range(36)])\n",
        "        lis = np.array(lis)\n",
        "        a[i,:,:] = lis\n",
        "    a = a.astype('int32')\n",
        "    #a=a.transpose(1,0,2)\n",
        "    lis = np.zeros((3,32,32))\n",
        "    n = random.randint(0,4)\n",
        "    for i in range(n,n+32):\n",
        "        for j in range(n,n+32):\n",
        "            lis[:,i-n,j-n] = a[:,i,j]\n",
        "    lis = lis.astype('int32')\n",
        "    return lis"
      ],
      "metadata": {
        "id": "p1JTdwxD3VM1"
      },
      "execution_count": 6,
      "outputs": []
    },
    {
      "cell_type": "code",
      "source": [
        "lis = crop(xdata[7])\n",
        "plt.imshow(lis.transpose(1,2,0), interpolation='nearest')\n",
        "plt.show()"
      ],
      "metadata": {
        "colab": {
          "base_uri": "https://localhost:8080/",
          "height": 266
        },
        "id": "A_zUvIjw3af5",
        "outputId": "20171ce7-9e75-453a-ac84-b6f7bfd5405f"
      },
      "execution_count": 7,
      "outputs": [
        {
          "output_type": "display_data",
          "data": {
            "image/png": "[encoded data removed]",
            "text/plain": [
              "<Figure size 432x288 with 1 Axes>"
            ]
          },
          "metadata": {
            "needs_background": "light"
          }
        }
      ]
    },
    {
      "cell_type": "code",
      "source": [
        "# contrast change and horizontal fliping by 50% probability\n",
        "def candh(image):\n",
        "    image = np.reshape(image,(3,32,32))\n",
        "    a =random.uniform(.5,2)\n",
        "    for i in range(3):\n",
        "        for j in range(32):\n",
        "            for k in range(32):\n",
        "                image[i,j,k] = a*image[i,j,k] - a*128 +128\n",
        "                if(image[i,j,k] < 0):\n",
        "                    image[i,j,k] = 0\n",
        "                if(image[i,j,k] > 255):\n",
        "                    image[i,j,k] = 255\n",
        "    l = np.random.choice(np.arange(0,2), p=[0.5,0.5])\n",
        "    if(l == 0):\n",
        "        for i in range(3):\n",
        "            for j in range(15):\n",
        "                temp = np.zeros(shape=32)\n",
        "                temp = image[i,j,:]\n",
        "                image[i,j,:] = image[i,31-j,:] \n",
        "                image[i,31-j,:]  = temp\n",
        "    #image = image.transpose(1,2,0)\n",
        "    image = image.astype('int32')\n",
        "    return image\n",
        "    "
      ],
      "metadata": {
        "id": "0mE0RhEd3gE5"
      },
      "execution_count": 8,
      "outputs": []
    },
    {
      "cell_type": "code",
      "source": [
        "lis = candh(xdata[6])\n",
        "lis = lis.astype('int32')\n",
        "plt.imshow(lis.transpose(1,2,0), interpolation='nearest')\n",
        "plt.show()"
      ],
      "metadata": {
        "colab": {
          "base_uri": "https://localhost:8080/",
          "height": 266
        },
        "id": "y-EkoQob3nk2",
        "outputId": "07d6d05b-cf0b-46f2-f6ce-24a955c43ea8"
      },
      "execution_count": 9,
      "outputs": [
        {
          "output_type": "display_data",
          "data": {
            "image/png": "[encoded data removed]",
            "text/plain": [
              "<Figure size 432x288 with 1 Axes>"
            ]
          },
          "metadata": {
            "needs_background": "light"
          }
        }
      ]
    },
    {
      "cell_type": "code",
      "source": [
        "# rotation of image\n",
        "import math\n",
        "def rotate(image):\n",
        "    the=random.randint(-180,180)\n",
        "    the = math.radians(the)\n",
        "    #print(the)\n",
        "    \n",
        "    image = np.reshape(image,(3,32,32))\n",
        "    h = image.shape[1]\n",
        "    w = image.shape[2]\n",
        "    # after rotating the image by a angle , the new height and width\n",
        "    n_h = round(abs(h*math.cos(the) ) + abs(w*math.sin(the) ))+1\n",
        "    n_w = round(abs(w*math.cos(the) ) + abs(h*math.sin(the) )) + 1\n",
        "    \n",
        "    h_c = round(h/2)\n",
        "    w_c = round(w/2)\n",
        "    \n",
        "    n_h_c = round(n_h/2)\n",
        "    n_w_c = round(n_w/2)\n",
        "    #print(type(n_h),n_w)\n",
        "    final_image = np.zeros((3,32,32))\n",
        "    new_image = np.zeros((3,n_h,n_w))\n",
        "    #print(n_h)\n",
        "    #print(n_w)\n",
        "    for i in range(h):\n",
        "        for j in range(w):\n",
        "            o_h = h_c -1- i\n",
        "            o_w = w_c - 1-j\n",
        "            \n",
        "            n_o_h = round(o_h*(1 + math.sin(the)*(-math.tan(the/2))) + o_w*(math.sin(the) *math.tan(the/2)*math.tan(the/2) - 2* math.tan(the/2)))\n",
        "            \n",
        "            n_o_w = round(o_h*math.sin(the) + o_w*(1 - math.sin(the)*math.tan(the/2) ))\n",
        "            \n",
        "            n_o_h = n_h_c - n_o_h-1\n",
        "            n_o_w = n_w_c - n_o_w-1\n",
        "            #print(n_o_w)\n",
        "            new_image[:,n_o_h,n_o_w] = image[:,i,j]\n",
        "    for i in range(32):\n",
        "        for j in range(32):\n",
        "            final_image[:,i,j] = new_image[:,i,j]\n",
        "    final_image = final_image.astype('int32')        \n",
        "    return final_image\n",
        "            \n",
        "            \n",
        "            \n",
        "    "
      ],
      "metadata": {
        "id": "Ihkm4Uwh3xfT"
      },
      "execution_count": 10,
      "outputs": []
    },
    {
      "cell_type": "code",
      "source": [
        "im = rotate(xdata[9321])\n",
        "plt.imshow(im.transpose(1,2,0), interpolation='nearest')\n",
        "plt.show()"
      ],
      "metadata": {
        "colab": {
          "base_uri": "https://localhost:8080/",
          "height": 266
        },
        "id": "1dNjps4o3yZY",
        "outputId": "340aae89-2947-4ed9-b049-d005f2d29e0a"
      },
      "execution_count": 11,
      "outputs": [
        {
          "output_type": "display_data",
          "data": {
            "image/png": "[encoded data removed]",
            "text/plain": [
              "<Figure size 432x288 with 1 Axes>"
            ]
          },
          "metadata": {
            "needs_background": "light"
          }
        }
      ]
    },
    {
      "cell_type": "code",
      "source": [
        ""
      ],
      "metadata": {
        "id": "ov8ZwFdv4v76"
      },
      "execution_count": null,
      "outputs": []
    },
    {
      "cell_type": "markdown",
      "source": [
        "Ques - 3\n",
        "Creating augmented data set and saving to drive"
      ],
      "metadata": {
        "id": "TiPdx2As4z5C"
      }
    },
    {
      "cell_type": "code",
      "source": [
        "xdata_ag = np.zeros((50000,3,32,32))\n",
        "ydata_ag = np.zeros((50000))\n",
        "for i in range(50000):\n",
        "    \n",
        "    n = random.randint(0,3)\n",
        "    #print(n)\n",
        "    if(n == 0):\n",
        "        img = rotate(xdata[i])\n",
        "    elif(n==1):\n",
        "        img = cutout(xdata[i])\n",
        "    elif(n==2):\n",
        "        img = crop(xdata[i])\n",
        "    else:\n",
        "        img = candh(xdata[i])\n",
        "    xdata_ag[i,:,:,:] = img\n",
        "    ydata_ag[i] = ydata[i]\n",
        "       "
      ],
      "metadata": {
        "id": "dWTmuk5H4dyw"
      },
      "execution_count": null,
      "outputs": []
    },
    {
      "cell_type": "markdown",
      "source": [
        ""
      ],
      "metadata": {
        "id": "ispe_HxN4y7n"
      }
    },
    {
      "cell_type": "code",
      "source": [
        "print(xdata_ag.shape)\n",
        "# the shape of augmented matrix is 50000 , when we concatenate with unaugmented matrix , combined size will be 100000"
      ],
      "metadata": {
        "id": "obRe5j8_m2ay"
      },
      "execution_count": null,
      "outputs": []
    },
    {
      "cell_type": "code",
      "source": [
        "# to save balanced train set and test set back to drive \n",
        "from numpy import asarray\n",
        "from numpy import save\n",
        "\n",
        "save('/content/drive/MyDrive/cifbr/xdata.npy', xdata)\n",
        "save('/content/drive/MyDrive/cifbr/ydata.npy', ydata)\n",
        "save('/content/drive/MyDrive/cifbr/xdata_ag.npy', xdata_ag)\n",
        "save('/content/drive/MyDrive/cifbr/ydata_ag.npy', ydata_ag)"
      ],
      "metadata": {
        "id": "JnixsTsHm9cu"
      },
      "execution_count": null,
      "outputs": []
    },
    {
      "cell_type": "code",
      "source": [
        "#passing xdata and xdata_ag to feature extractor"
      ],
      "metadata": {
        "id": "Zq6Z-unMUqNa"
      },
      "execution_count": null,
      "outputs": []
    },
    {
      "cell_type": "code",
      "source": [
        ""
      ],
      "metadata": {
        "id": "HYNwWU3SJwZA"
      },
      "execution_count": null,
      "outputs": []
    },
    {
      "cell_type": "markdown",
      "source": [
        "Ques 4 \\\\\n",
        "Applying Feature extarction"
      ],
      "metadata": {
        "id": "Irc3mmnJ6Dfl"
      }
    },
    {
      "cell_type": "markdown",
      "source": [
        "Feature extraction of unaugmented data"
      ],
      "metadata": {
        "id": "LrAJP6owJxRw"
      }
    },
    {
      "cell_type": "code",
      "source": [
        "from numpy import load\n",
        "xdata = load('/content/drive/MyDrive/cifbr/xdata.npy')"
      ],
      "metadata": {
        "id": "11XGr0g1MmWz"
      },
      "execution_count": null,
      "outputs": []
    },
    {
      "cell_type": "code",
      "source": [
        "xdata =  xdata.transpose(0,3,2,1)"
      ],
      "metadata": {
        "id": "RvtIP_v-Jtdi"
      },
      "execution_count": null,
      "outputs": []
    },
    {
      "cell_type": "code",
      "source": [
        "from feature_extractor import BBResNet18\n",
        "obj = BBResNet18()\n",
        "import cv2\n",
        "import numpy as np\n",
        "arr = np.ndarray(shape=(50000, 512), dtype=np.float32)\n",
        "#xdata_res = np.zeros((1,224,224,3))\n",
        "for i in range(50000):\n",
        "  temp =np.zeros((1,3,224,224))\n",
        "  temp[0,:,:,:] = cv2.resize(xdata[i],(224,224), interpolation = cv2.INTER_AREA).transpose(2,1,0)\n",
        "  temp = temp/255\n",
        "  arr[i] = obj.feature_extraction(temp.astype(np.float32))\n",
        "  \n",
        "\n",
        "  "
      ],
      "metadata": {
        "id": "EJOL6z19UwHL"
      },
      "execution_count": null,
      "outputs": []
    },
    {
      "cell_type": "code",
      "source": [
        "from numpy import asarray\n",
        "from numpy import save\n",
        "\n",
        "save('/content/drive/MyDrive/xunaug_data.npy', arr)"
      ],
      "metadata": {
        "id": "Axga9lByJ_Ng"
      },
      "execution_count": null,
      "outputs": []
    },
    {
      "cell_type": "markdown",
      "source": [
        "Feature extraction of augmented data"
      ],
      "metadata": {
        "id": "Pr2HPE9lKZHV"
      }
    },
    {
      "cell_type": "code",
      "source": [
        "from numpy import load\n",
        "xdata_ag = load('/content/drive/MyDrive/cifbr/xdata_ag.npy')"
      ],
      "metadata": {
        "id": "yRXiBTd7KbUV"
      },
      "execution_count": 1,
      "outputs": []
    },
    {
      "cell_type": "code",
      "source": [
        "from numpy import load\n",
        "xdata = load('/content/drive/MyDrive/cifbr/xdata.npy')\n",
        "xdata =  xdata.transpose(0,3,2,1)"
      ],
      "metadata": {
        "id": "P4sBoTxG_7K2"
      },
      "execution_count": 3,
      "outputs": []
    },
    {
      "cell_type": "code",
      "source": [
        "xdata_ag =  xdata_ag.transpose(0,3,2,1)"
      ],
      "metadata": {
        "id": "NWxY85-dMP_Y"
      },
      "execution_count": 2,
      "outputs": []
    },
    {
      "cell_type": "code",
      "source": [
        "import numpy as np\n",
        "xdata_ag = np.concatenate((xdata_ag, xdata), axis=0)"
      ],
      "metadata": {
        "id": "U_iazkKYLuNS"
      },
      "execution_count": 4,
      "outputs": []
    },
    {
      "cell_type": "code",
      "source": [
        "xdata_ag.shape"
      ],
      "metadata": {
        "colab": {
          "base_uri": "https://localhost:8080/"
        },
        "id": "rOwnVE69MudL",
        "outputId": "c138f0da-ca06-4a95-805c-5cfbfe77a115"
      },
      "execution_count": 5,
      "outputs": [
        {
          "output_type": "execute_result",
          "data": {
            "text/plain": [
              "(100000, 32, 32, 3)"
            ]
          },
          "metadata": {},
          "execution_count": 5
        }
      ]
    },
    {
      "cell_type": "code",
      "source": [
        "from feature_extractor import BBResNet18\n",
        "obj = BBResNet18()\n",
        "import cv2\n",
        "import numpy as np\n",
        "arr = np.ndarray(shape=(100000, 512), dtype=np.float32)\n",
        "xdata_res = np.zeros((1,224,224,3))\n",
        "for i in range(100000):\n",
        "  temp =np.zeros((1,3,224,224))\n",
        "  temp[0,:,:,:] = cv2.resize(xdata_ag[i],(224,224), interpolation = cv2.INTER_AREA).transpose(2,1,0)\n",
        "  temp = temp/255\n",
        "  arr[i] = obj.feature_extraction(temp.astype(np.float32))\n",
        "  \n",
        "\n",
        "  "
      ],
      "metadata": {
        "id": "4CglqIKxKsgs"
      },
      "execution_count": 12,
      "outputs": []
    },
    {
      "cell_type": "code",
      "source": [
        ""
      ],
      "metadata": {
        "id": "VnXmmNwcNlaN"
      },
      "execution_count": null,
      "outputs": []
    },
    {
      "cell_type": "code",
      "source": [
        "from numpy import asarray\n",
        "from numpy import save\n",
        "\n",
        "save('/content/drive/MyDrive/xaug_data.npy', arr)"
      ],
      "metadata": {
        "id": "95GWlzM46oEE"
      },
      "execution_count": null,
      "outputs": []
    },
    {
      "cell_type": "markdown",
      "source": [
        "Test data feature extraction"
      ],
      "metadata": {
        "id": "ljkxtARH6viI"
      }
    },
    {
      "cell_type": "code",
      "source": [
        "x_test.shape"
      ],
      "metadata": {
        "colab": {
          "base_uri": "https://localhost:8080/"
        },
        "id": "qdHuWFfZPYJD",
        "outputId": "55b38721-a343-495d-a42c-b04b05935a20"
      },
      "execution_count": null,
      "outputs": [
        {
          "output_type": "execute_result",
          "data": {
            "text/plain": [
              "(10000, 3072)"
            ]
          },
          "metadata": {},
          "execution_count": 3
        }
      ]
    },
    {
      "cell_type": "code",
      "source": [
        "import numpy as np\n",
        "x_test = np.reshape(x_test,(10000,3,32,32)).transpose(0,3,2,1)"
      ],
      "metadata": {
        "id": "Xt3KMMZ8R7Hc"
      },
      "execution_count": null,
      "outputs": []
    },
    {
      "cell_type": "code",
      "source": [
        "from feature_extractor import BBResNet18\n",
        "obj = BBResNet18()\n",
        "import cv2\n",
        "import numpy as np\n",
        "arr = np.ndarray(shape=(10000, 512), dtype=np.float32)\n",
        "#xdata_res = np.zeros((1,224,224,3))\n",
        "for i in range(10000):\n",
        "  temp =np.zeros((1,3,224,224))\n",
        "  temp[0,:,:,:] = cv2.resize(x_test[i],(224,224), interpolation = cv2.INTER_AREA).transpose(2,1,0)\n",
        "  temp = temp/255\n",
        "  arr[i] = obj.feature_extraction(temp.astype(np.float32))\n",
        "  "
      ],
      "metadata": {
        "id": "o1LD6KAtSBfi"
      },
      "execution_count": null,
      "outputs": []
    },
    {
      "cell_type": "code",
      "source": [
        "arr.shape"
      ],
      "metadata": {
        "colab": {
          "base_uri": "https://localhost:8080/"
        },
        "id": "D3V77gXvSubr",
        "outputId": "ae2f75ab-2203-4136-ae26-71818066f9a5"
      },
      "execution_count": null,
      "outputs": [
        {
          "output_type": "execute_result",
          "data": {
            "text/plain": [
              "(10000, 512)"
            ]
          },
          "metadata": {},
          "execution_count": 7
        }
      ]
    },
    {
      "cell_type": "code",
      "source": [
        "from numpy import asarray\n",
        "from numpy import save\n",
        "\n",
        "save('/content/drive/MyDrive/test_data.npy', arr)"
      ],
      "metadata": {
        "id": "7q68DiuPS3ZZ"
      },
      "execution_count": null,
      "outputs": []
    }
  ]
}