{
  "nbformat": 4,
  "nbformat_minor": 0,
  "metadata": {
    "colab": {
      "name": "MLP2.ipynb",
      "provenance": [],
      "collapsed_sections": []
    },
    "kernelspec": {
      "name": "python3",
      "display_name": "Python 3"
    },
    "language_info": {
      "name": "python"
    }
  },
  "cells": [
    {
      "cell_type": "code",
      "source": [
        ""
      ],
      "metadata": {
        "id": "p9aioHz4fghl"
      },
      "execution_count": null,
      "outputs": []
    },
    {
      "cell_type": "markdown",
      "source": [
        " $\\mathbf{\\text{Feed forward and Backpropagation algorithm }}$<br>"
      ],
      "metadata": {
        "id": "SIs_Pketfmok"
      }
    },
    {
      "cell_type": "code",
      "source": [
        "#Implementing Forward propagation\n",
        "  # weight initialization\n",
        "  w_1 = np.random.randn(64,ni)*np.sqrt(2/512)\n",
        "  b_1 = np.zeros((64,1))\n",
        "  w_2 = np.random.randn(no,64)*np.sqrt(2/512)\n",
        "  b_2 = np.zeros((no,1))\n",
        " # Running for total 800 epochs\n",
        " for _ in range(800):\n",
        "      #Batch size is 500\n",
        "      for  k in range(100):\n",
        "        # xdata_b stores xdata of 500 size\n",
        "        xdata_b = xdata[:,k*500:(k+1)*500]\n",
        "        ydata_vec_b =  ydata_vec[:,k*500:(k+1)*500]\n",
        "        z_1 = np.dot(w_1,xdata_b) + b_1\n",
        "        #Relu activation function\n",
        "        A_1 = np.maximum(z_1, 0)\n",
        "        z_2 = np.dot(w_2,A_1) + b_2\n",
        "        # softmax activation function\n",
        "        A_2 =  np.exp(z_2) / np.sum(np.exp(z_2), axis=0)\n",
        "        \n"
      ],
      "metadata": {
        "id": "Hd2-QvelrlH2"
      },
      "execution_count": null,
      "outputs": []
    },
    {
      "cell_type": "code",
      "source": [
        "# implementing Back propagation\n",
        "  # dz2 is derivation of loss w.r.t z2 matrix. Detailed derivation is in the report file\n",
        "  dz2 = A_2 - ydata\n",
        "  dw2 = (1/m) * np.dot(dz2,A_1.T)\n",
        "  db2 = (1/m) *np.sum(dz2,axis=1,keepdims=True)\n",
        "  # d is a matrix stores derivative of relu function w. r .t to z1.\n",
        "  dz1 = np.dot(w_2.T,dz2)*d\n",
        "  dw1 = (1/m) *np.dot(dz1,xdata_b.T)\n",
        "  db1 = (1/m) *np.sum(dz1, axis=1, keepdims=True)\n",
        "  w_2 = w_2 - learn_rate*dw2\n",
        "  b_2 = b_2 -  learn_rate*db2\n",
        "  w_1 = w_1 - learn_rate*dw1\n",
        "  b_1 = b_1 - learn_rate*db1"
      ],
      "metadata": {
        "id": "Vbkh36zTs8Ek"
      },
      "execution_count": null,
      "outputs": []
    },
    {
      "cell_type": "code",
      "source": [
        ""
      ],
      "metadata": {
        "id": "J_R87UDcCf6t"
      },
      "execution_count": null,
      "outputs": []
    },
    {
      "cell_type": "markdown",
      "source": [
        " $\\mathbf{\\text{Training  augmented data set model }}$<br>\n"
      ],
      "metadata": {
        "id": "VvIAZnR-CgpA"
      }
    },
    {
      "cell_type": "code",
      "source": [
        ""
      ],
      "metadata": {
        "id": "hqkIU-SYCmao"
      },
      "execution_count": null,
      "outputs": []
    },
    {
      "cell_type": "code",
      "execution_count": 15,
      "metadata": {
        "id": "4qu7G_6ykw5t"
      },
      "outputs": [],
      "source": [
        "# Loading datqset\n",
        "import numpy as np\n",
        "from numpy import load\n",
        "ydata = load('/content/drive/MyDrive/cifbr/ydata.npy')\n",
        "xdata = load('/content/drive/MyDrive/xaug_data.npy')"
      ]
    },
    {
      "cell_type": "code",
      "source": [
        "# as xdata is 100000 data points whereas ydata has only 500000 data points , \n",
        "# we are concatenating two ydata around axis =0 two get the resultant ydata\n",
        "temp = ydata\n",
        "ydata = np.concatenate((ydata, temp), axis=0)\n"
      ],
      "metadata": {
        "id": "iS9TH9aYq6Nq"
      },
      "execution_count": 16,
      "outputs": []
    },
    {
      "cell_type": "code",
      "source": [
        "# One hot encoding of ydata\n",
        "ydata_vec = np.zeros((100000,10))\n",
        "for i in range(100000):\n",
        "  ydata_vec[i,ydata[i]] = 1"
      ],
      "metadata": {
        "id": "wXYdJQoyrJZD"
      },
      "execution_count": 17,
      "outputs": []
    },
    {
      "cell_type": "code",
      "source": [
        "# transposing the xdata and ydata from [None , 512 ] and [None, 10] to [512, None] and [10,None]\n",
        "xdata = xdata.transpose(1,0)\n",
        "ydata_vec = ydata_vec.transpose(1,0)"
      ],
      "metadata": {
        "id": "wm8N_VtPrMZ3"
      },
      "execution_count": 18,
      "outputs": []
    },
    {
      "cell_type": "code",
      "source": [
        "import numpy as np\n",
        "def mlp(ni,no):\n",
        "  w_1 = np.random.randn(64,ni)*np.sqrt(2/512)*.01\n",
        "  b_1 = np.zeros((64,1))\n",
        "  w_2 = np.random.randn(no,64)*np.sqrt(2/512)*.01\n",
        "  b_2 = np.zeros((no,1))\n",
        "  # lis stores the cross entropy loss value each \n",
        "  lis = []\n",
        "  # w_l stores final weight matrix\n",
        "  w_l = []\n",
        "  # eps is a small added to the log term in case it becomes zero\n",
        "  eps = 1e-5\n",
        "  for _ in range(800):\n",
        "      for  k in range(200):\n",
        "        # batch size is 500\n",
        "        xdata_b = xdata[:,k*500:(k+1)*500]\n",
        "      \n",
        "        ydata_vec_b =  ydata_vec[:,k*500:(k+1)*500]\n",
        "        z_1 = np.dot(w_1,xdata_b) + b_1\n",
        "        \n",
        "        A_1 = np.maximum(z_1, 0)\n",
        "        # d stores derivative of relu function w r t z_1\n",
        "        d = np.array(z_1 > 0,dtype = np.float32)\n",
        "        \n",
        "        z_2 = np.dot(w_2,A_1) + b_2\n",
        "        A_2 =  np.exp(z_2) / np.sum(np.exp(z_2), axis=0)\n",
        "        \n",
        "        m = xdata_b.shape[1]\n",
        "        # cross entropy loss function\n",
        "        loss = (-1/m) * np.sum(ydata_vec_b* np.log(A_2))\n",
        "        dz2 = A_2 - ydata_vec_b\n",
        "        dw2 = (1/m) * np.dot(dz2,A_1.T)\n",
        "        db2 = (1/m) *np.sum(dz2,axis=1,keepdims=True)\n",
        "        dz1 = np.dot(w_2.T,dz2)*d\n",
        "        dw1 = (1/m) *np.dot(dz1,xdata_b.T)\n",
        "        \n",
        "        db1 = (1/m) *np.sum(dz1, axis=1, keepdims=True)\n",
        "        # weight updation\n",
        "        w_2 = w_2 - .01*dw2\n",
        "       \n",
        "        b_2 = b_2 -  .01*db2\n",
        "        w_1 = w_1 - .01*dw1\n",
        "        b_1 = b_1 - .01*db1\n",
        "        lis.append(loss)\n",
        "        \n",
        "  w_l.append([w_1,b_1,w_2,b_2])\n",
        "  return [lis,w_l]\n",
        "\n",
        "  "
      ],
      "metadata": {
        "id": "fDncDTi6E-fZ"
      },
      "execution_count": 19,
      "outputs": []
    },
    {
      "cell_type": "code",
      "source": [
        "# ni = 512 , no =  10\n",
        "# x1 stores the weights and loss values for the augmented dataset\n",
        "x1 = mlp(512,10)"
      ],
      "metadata": {
        "id": "rIt2fynZGo6z"
      },
      "execution_count": 20,
      "outputs": []
    },
    {
      "cell_type": "code",
      "source": [
        ""
      ],
      "metadata": {
        "id": "fDtWryClU4Kn"
      },
      "execution_count": null,
      "outputs": []
    },
    {
      "cell_type": "code",
      "source": [
        "# w1_l stores the weight while l1 stores loss\n",
        "wl_1 = x1[1]\n",
        "l1 = x1[0]"
      ],
      "metadata": {
        "id": "x-dCFucuHGNw"
      },
      "execution_count": 21,
      "outputs": []
    },
    {
      "cell_type": "code",
      "source": [
        "# plot between loss nad number of iterations\n",
        "l1 = np.array(l1)\n",
        "import matplotlib.pyplot as plt\n",
        "import numpy as np\n",
        "x_c = np.arange(l1.shape[0])\n",
        "plt.plot(x_c,l1)\n",
        "plt.show()"
      ],
      "metadata": {
        "id": "eaqCJEE6HR_G",
        "colab": {
          "base_uri": "https://localhost:8080/",
          "height": 265
        },
        "outputId": "311fb8c5-63af-4aa0-eb43-80b2d3fbe8b8"
      },
      "execution_count": 22,
      "outputs": [
        {
          "output_type": "display_data",
          "data": {
            "image/png": "[encoded data removed]",
            "text/plain": [
              "<Figure size 432x288 with 1 Axes>"
            ]
          },
          "metadata": {
            "needs_background": "light"
          }
        }
      ]
    },
    {
      "cell_type": "markdown",
      "source": [
        "\n",
        "  $\\mathbf{\\text{ Evaluating augmented Model performence }}$<br>"
      ],
      "metadata": {
        "id": "8hVzkEqfVO7x"
      }
    },
    {
      "cell_type": "code",
      "source": [
        "import numpy as np\n",
        "from numpy import load\n",
        "xdata_test = load('/content/drive/MyDrive/test_data.npy')\n",
        "ytest_data = load('/content/drive/MyDrive/ydata_test.npy')\n"
      ],
      "metadata": {
        "id": "RWRS51iWymrY"
      },
      "execution_count": 23,
      "outputs": []
    },
    {
      "cell_type": "code",
      "source": [
        "# test data has shape (50000,512) to change it back to (512, 50000)\n",
        "xdata_test = xdata_test.transpose(1,0)"
      ],
      "metadata": {
        "id": "VAp591E01jUn"
      },
      "execution_count": 24,
      "outputs": []
    },
    {
      "cell_type": "code",
      "source": [
        "# assigning weights\n",
        "w_l1 = np.array(wl_1)\n",
        "w_1=w_l1[0,0]\n",
        "b_1=w_l1[0,1]\n",
        "w_2=w_l1[0,2]\n",
        "b_2=w_l1[0,3]"
      ],
      "metadata": {
        "colab": {
          "base_uri": "https://localhost:8080/"
        },
        "id": "7qWkrUQDWBlC",
        "outputId": "1336e0e2-c384-4a99-bee2-5c99147ca878"
      },
      "execution_count": 25,
      "outputs": [
        {
          "output_type": "stream",
          "name": "stderr",
          "text": [
            "/usr/local/lib/python3.7/dist-packages/ipykernel_launcher.py:2: VisibleDeprecationWarning: Creating an ndarray from ragged nested sequences (which is a list-or-tuple of lists-or-tuples-or ndarrays with different lengths or shapes) is deprecated. If you meant to do this, you must specify 'dtype=object' when creating the ndarray\n",
            "  \n"
          ]
        }
      ]
    },
    {
      "cell_type": "code",
      "source": [
        "z_1 = np.dot(w_1,xdata_test) + b_1\n",
        "A_1 = np.zeros((64,xdata_test.shape[1]))\n",
        "for i in range(64):\n",
        "    for j in range(xdata_test.shape[1]):\n",
        "        if(z_1[i,j]>0): \n",
        "             A_1[i,j] = z_1[i,j]\n",
        "z_2 = np.dot(w_2,A_1) + b_2\n",
        "A_2 =  np.exp(z_2) / np.sum(np.exp(z_2), axis=0)"
      ],
      "metadata": {
        "id": "kZ61yyd8WhGX"
      },
      "execution_count": 26,
      "outputs": []
    },
    {
      "cell_type": "code",
      "source": [
        "A_2 = A_2.transpose(1,0)"
      ],
      "metadata": {
        "id": "-1i-VGYiWlxJ"
      },
      "execution_count": 27,
      "outputs": []
    },
    {
      "cell_type": "code",
      "source": [
        "predict_class = np.argmax(A_2, axis=1)\n",
        "predict_class = predict_class.tolist()"
      ],
      "metadata": {
        "id": "4ddBe1-PWpUv"
      },
      "execution_count": 28,
      "outputs": []
    },
    {
      "cell_type": "code",
      "source": [
        "# Measuring Accuracy\n",
        "k=0\n",
        "for i in range(10000):\n",
        "  if(ytest_data[i] == predict_class[i] ): \n",
        "    k=k+1\n",
        "# ACuracy of Model\n",
        "print(k)\n"
      ],
      "metadata": {
        "colab": {
          "base_uri": "https://localhost:8080/"
        },
        "id": "pKu1qOvQWwKa",
        "outputId": "707694f8-ce49-4f20-a97d-0622cad36dfc"
      },
      "execution_count": 29,
      "outputs": [
        {
          "output_type": "stream",
          "name": "stdout",
          "text": [
            "7979\n"
          ]
        }
      ]
    },
    {
      "cell_type": "markdown",
      "source": [
        "Accuracy of model trained by Augmented data is 79.35"
      ],
      "metadata": {
        "id": "dp-RFeoTCIS8"
      }
    },
    {
      "cell_type": "markdown",
      "source": [
        "\n",
        " $\\mathbf{\\text{Training Model on unaugmented data }}$<br>"
      ],
      "metadata": {
        "id": "5MdCmoFbJPQM"
      }
    },
    {
      "cell_type": "code",
      "source": [
        "# unaugmented has 50000 size\n",
        "import numpy as np\n",
        "from numpy import load\n",
        "ydata = load('/content/drive/MyDrive/cifbr/ydata.npy')\n",
        "xdata = load('/content/drive/MyDrive/xunaug_data.npy')"
      ],
      "metadata": {
        "id": "y-hOFQ_8HGaO"
      },
      "execution_count": 1,
      "outputs": []
    },
    {
      "cell_type": "code",
      "source": [
        "# One hot encoding of ydata\n",
        "ydata_vec = np.zeros((50000,10))\n",
        "for i in range(50000):\n",
        "  ydata_vec[i,ydata[i]] = 1"
      ],
      "metadata": {
        "id": "sC5iawB0USMc"
      },
      "execution_count": 2,
      "outputs": []
    },
    {
      "cell_type": "code",
      "source": [
        "# transposing the xdata and ydata from [None , 512 ] and [None, 10] to [512, None] and [10,None]\n",
        "xdata = xdata.transpose(1,0)\n",
        "ydata_vec = ydata_vec.transpose(1,0)"
      ],
      "metadata": {
        "id": "MYZbFG1tUrAp"
      },
      "execution_count": 3,
      "outputs": []
    },
    {
      "cell_type": "code",
      "source": [
        "import numpy as np\n",
        "def mlp(ni,no):\n",
        "  w_1 = np.random.randn(64,ni)*np.sqrt(2/512)*.01\n",
        "  b_1 = np.zeros((64,1))\n",
        "  w_2 = np.random.randn(no,64)*np.sqrt(2/512)*.01\n",
        "  b_2 = np.zeros((no,1))\n",
        "  lis = []\n",
        "  w_l = []\n",
        "  eps = 1e-5\n",
        "  for _ in range(800):\n",
        "      for  k in range(250):\n",
        "        xdata_b = xdata[:,k*200:(k+1)*200]\n",
        "        #print(k)\n",
        "        ydata_vec_b =  ydata_vec[:,k*200:(k+1)*200]\n",
        "        z_1 = np.dot(w_1,xdata_b) + b_1\n",
        "        \n",
        "        \n",
        "        A_1 = np.maximum(z_1, 0)\n",
        "        d = np.array(z_1 > 0,dtype = np.float32)\n",
        "        \n",
        "        z_2 = np.dot(w_2,A_1) + b_2\n",
        "        #print(np.max(z_2))\n",
        "        A_2 =  np.exp(z_2) / np.sum(np.exp(z_2), axis=0)\n",
        "        \n",
        "        m = xdata_b.shape[1]\n",
        "        \n",
        "        loss = (-1/m) * np.sum( ydata_vec_b* np.log(A_2  ))\n",
        "        dz2 = A_2 - ydata_vec_b\n",
        "        \n",
        "       \n",
        "        dw2 = (1/m) * np.dot(dz2,A_1.T)\n",
        "        db2 = (1/m) *np.sum(dz2,axis=1,keepdims=True)\n",
        "        dz1 = np.dot(w_2.T,dz2)*d\n",
        "        \n",
        "       \n",
        "        dw1 = (1/m) *np.dot(dz1,xdata_b.T)\n",
        "        \n",
        "        db1 = (1/m) *np.sum(dz1, axis=1, keepdims=True)\n",
        "       \n",
        "        w_2 = w_2 - .008*dw2\n",
        "       \n",
        "        b_2 = b_2 -  .008*db2\n",
        "        w_1 = w_1 - .008*dw1\n",
        "        b_1 = b_1 - .008*db1\n",
        "        lis.append(loss)\n",
        "        \n",
        "  w_l.append([w_1,b_1,w_2,b_2])\n",
        "  return [lis,w_l]\n",
        "\n",
        "  "
      ],
      "metadata": {
        "id": "Ixq9guXFUvaA"
      },
      "execution_count": 4,
      "outputs": []
    },
    {
      "cell_type": "code",
      "source": [
        "# ni = 512 , no =  10\n",
        "# x2 stores the weights and loss values for the augmented dataset\n",
        "x2 = mlp(512,10)"
      ],
      "metadata": {
        "id": "nA6U8vEoU57o"
      },
      "execution_count": 5,
      "outputs": []
    },
    {
      "cell_type": "code",
      "source": [
        "wl_2 = x2[1]\n",
        "l2= x2[0]"
      ],
      "metadata": {
        "id": "L2sNwx3fU61U"
      },
      "execution_count": 6,
      "outputs": []
    },
    {
      "cell_type": "code",
      "source": [
        "l2 = np.array(l2)\n",
        "import matplotlib.pyplot as plt\n",
        "import numpy as np\n",
        "x_c = np.arange(l2.shape[0])\n",
        "plt.plot(x_c,l2)\n",
        "plt.show()"
      ],
      "metadata": {
        "colab": {
          "base_uri": "https://localhost:8080/",
          "height": 265
        },
        "id": "BWF-sEtiVCSG",
        "outputId": "02239201-aa3f-425a-c74f-ab18ee38b826"
      },
      "execution_count": 7,
      "outputs": [
        {
          "output_type": "display_data",
          "data": {
            "image/png": "[encoded data removed]",
            "text/plain": [
              "<Figure size 432x288 with 1 Axes>"
            ]
          },
          "metadata": {
            "needs_background": "light"
          }
        }
      ]
    },
    {
      "cell_type": "code",
      "source": [
        ""
      ],
      "metadata": {
        "id": "OhPw9bCOCGSh"
      },
      "execution_count": null,
      "outputs": []
    },
    {
      "cell_type": "code",
      "source": [
        ""
      ],
      "metadata": {
        "id": "xvSWFoA01W4M"
      },
      "execution_count": null,
      "outputs": []
    },
    {
      "cell_type": "markdown",
      "source": [
        "  \n",
        " $\\mathbf{\\text{Evaluation unaugmented model performence }}$<br>"
      ],
      "metadata": {
        "id": "j4GwNmix1fB0"
      }
    },
    {
      "cell_type": "code",
      "source": [
        "import numpy as np\n",
        "from numpy import load\n",
        "xdata_test = load('/content/drive/MyDrive/test_data.npy')\n",
        "ytest_data = load('/content/drive/MyDrive/ydata_test.npy')"
      ],
      "metadata": {
        "id": "tGGwap8_1iOO"
      },
      "execution_count": 7,
      "outputs": []
    },
    {
      "cell_type": "code",
      "source": [
        "xdata_test = xdata_test.transpose(1,0)"
      ],
      "metadata": {
        "id": "UnyZgArb12iO"
      },
      "execution_count": 8,
      "outputs": []
    },
    {
      "cell_type": "code",
      "source": [
        "w_l2 = np.array(wl_2)\n",
        "w_1=w_l2[0,0]\n",
        "b_1=w_l2[0,1]\n",
        "w_2=w_l2[0,2]\n",
        "b_2=w_l2[0,3]"
      ],
      "metadata": {
        "id": "J0hYnTRv2AaA"
      },
      "execution_count": 14,
      "outputs": []
    },
    {
      "cell_type": "code",
      "source": [
        "z_1 = np.dot(w_1,xdata_test) + b_1\n",
        "A_1 = np.zeros((64,xdata_test.shape[1]))\n",
        "for i in range(64):\n",
        "    for j in range(xdata_test.shape[1]):\n",
        "        if(z_1[i,j]>0): \n",
        "             A_1[i,j] = z_1[i,j]\n",
        "z_2 = np.dot(w_2,A_1) + b_2\n",
        "A_2 =  np.exp(z_2) / np.sum(np.exp(z_2), axis=0)"
      ],
      "metadata": {
        "id": "tR30FRbx2EI1"
      },
      "execution_count": 15,
      "outputs": []
    },
    {
      "cell_type": "code",
      "source": [
        "A_2 = A_2.transpose(1,0)"
      ],
      "metadata": {
        "id": "Gnijq6e12KJQ"
      },
      "execution_count": 16,
      "outputs": []
    },
    {
      "cell_type": "code",
      "source": [
        "predict_class = np.argmax(A_2, axis=1)\n",
        "predict_class = predict_class.tolist()"
      ],
      "metadata": {
        "id": "FdHxzBsR2NW5"
      },
      "execution_count": 17,
      "outputs": []
    },
    {
      "cell_type": "code",
      "source": [
        "# K is an integer , whenever ytest_data and predict class has same value , k increses by 1\n",
        "# thus value of k divided by 100 shows the accuracy of the model\n",
        "k=0\n",
        "\n",
        "for i in range(10000):\n",
        "  if(ytest_data[i] == predict_class[i] ): \n",
        "    k=k+1\n",
        "print(k)"
      ],
      "metadata": {
        "id": "UvmoKgT12UvN",
        "colab": {
          "base_uri": "https://localhost:8080/"
        },
        "outputId": "33df2ff4-ec2d-422b-b9b1-66d7e55c8acb"
      },
      "execution_count": 18,
      "outputs": [
        {
          "output_type": "stream",
          "name": "stdout",
          "text": [
            "7755\n"
          ]
        }
      ]
    },
    {
      "cell_type": "markdown",
      "source": [
        "Accuracy of model trained by unaugmented dataset is 77.55"
      ],
      "metadata": {
        "id": "biCzjqS9CjDM"
      }
    }
  ]
}